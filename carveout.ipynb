{
 "cells": [
  {
   "cell_type": "code",
   "execution_count": 1,
   "id": "c49aa5a1",
   "metadata": {},
   "outputs": [],
   "source": [
    "import geopandas as gpd\n",
    "import pandas as pd"
   ]
  },
  {
   "cell_type": "markdown",
   "id": "fc14ffdb",
   "metadata": {},
   "source": [
    "### Load Data"
   ]
  },
  {
   "cell_type": "markdown",
   "id": "2ce499d1",
   "metadata": {},
   "source": [
    "Data source: \n",
    "1. tax data: https://www.sfassessor.org/news-information/property-data-0\n",
    "2. historic "
   ]
  },
  {
   "cell_type": "code",
   "execution_count": 5,
   "id": "bced0fee",
   "metadata": {},
   "outputs": [],
   "source": [
    "tax = pd.read_excel('./2023.7.18_SF_ASR_Secured_Roll_Data_2022-2023.xlsx')"
   ]
  },
  {
   "cell_type": "code",
   "execution_count": 4,
   "id": "4f4c65aa",
   "metadata": {},
   "outputs": [],
   "source": [
    "historic = gpd.read_file('./Historic Districts/geo_export_a0505c4f-e263-4190-90bd-fe371826c801.shp')"
   ]
  },
  {
   "cell_type": "code",
   "execution_count": 28,
   "id": "a3760b6e",
   "metadata": {},
   "outputs": [],
   "source": [
    "historic = historic[['name_1', 'descriptio', 'geometry']]"
   ]
  },
  {
   "cell_type": "code",
   "execution_count": 75,
   "id": "043da397",
   "metadata": {},
   "outputs": [],
   "source": [
    "parcels = gpd.read_file('./parcels/geo_export_ccf5bc9c-86d7-4a66-85d1-6e4ae4490c28.shp')"
   ]
  },
  {
   "cell_type": "markdown",
   "id": "f2f24a8a",
   "metadata": {},
   "source": [
    "### Clean Assesor Parcel Number (aka blklot)"
   ]
  },
  {
   "cell_type": "code",
   "execution_count": 19,
   "id": "897808f6",
   "metadata": {},
   "outputs": [],
   "source": [
    "tax['blklot'] = tax.RP1PRCLID.str.replace(' ', '')"
   ]
  },
  {
   "cell_type": "markdown",
   "id": "894f9fb5",
   "metadata": {},
   "source": [
    "### Create geospatial version of tax assessor data so I can do a geospatial merge with the historic districts dataset"
   ]
  },
  {
   "cell_type": "code",
   "execution_count": 52,
   "id": "fce277ea",
   "metadata": {},
   "outputs": [
    {
     "data": {
      "text/plain": [
       "0.9990404205132568"
      ]
     },
     "execution_count": 52,
     "metadata": {},
     "output_type": "execute_result"
    }
   ],
   "source": [
    "# better to merge on blklot than mapblklot\n",
    "tax['blklot'].isin(parcels.blklot).mean()"
   ]
  },
  {
   "cell_type": "code",
   "execution_count": 25,
   "id": "95211dac",
   "metadata": {},
   "outputs": [],
   "source": [
    "df = pd.merge(parcels[['blklot', 'geometry']], tax)"
   ]
  },
  {
   "cell_type": "code",
   "execution_count": 33,
   "id": "e88ee4b3",
   "metadata": {},
   "outputs": [
    {
     "data": {
      "text/plain": [
       "(211348, 34)"
      ]
     },
     "execution_count": 33,
     "metadata": {},
     "output_type": "execute_result"
    }
   ],
   "source": [
    "df.shape"
   ]
  },
  {
   "cell_type": "code",
   "execution_count": 34,
   "id": "59ec2f10",
   "metadata": {},
   "outputs": [],
   "source": [
    "# geospatial merge\n",
    "full_df = gpd.sjoin(df, historic, predicate='within', rsuffix='historic', how='left')"
   ]
  },
  {
   "cell_type": "code",
   "execution_count": 36,
   "id": "b95131c4",
   "metadata": {},
   "outputs": [],
   "source": [
    "full_df['is_historic'] = full_df['index_historic'].notna()"
   ]
  },
  {
   "cell_type": "code",
   "execution_count": 38,
   "id": "137d1ab0",
   "metadata": {},
   "outputs": [
    {
     "data": {
      "text/plain": [
       "746"
      ]
     },
     "execution_count": 38,
     "metadata": {},
     "output_type": "execute_result"
    }
   ],
   "source": [
    "# join creates ~750 new rows bc these parcels are in multiple historic districts\n",
    "full_df.shape[0] - df.shape[0]"
   ]
  },
  {
   "cell_type": "code",
   "execution_count": 41,
   "id": "b3119617",
   "metadata": {},
   "outputs": [],
   "source": [
    "# so, I drop extra matches\n",
    "full_df = full_df.drop_duplicates(['PROPLOC', 'blklot', 'geometry'])"
   ]
  },
  {
   "cell_type": "markdown",
   "id": "2cb680c1",
   "metadata": {},
   "source": [
    "### How many parcels have buildings that are 100+ years old?"
   ]
  },
  {
   "cell_type": "code",
   "execution_count": 72,
   "id": "11d4edc9",
   "metadata": {},
   "outputs": [
    {
     "data": {
      "text/plain": [
       "0.056"
      ]
     },
     "execution_count": 72,
     "metadata": {},
     "output_type": "execute_result"
    }
   ],
   "source": [
    "# When YRBLT is 0 or predates the country's founding, I interpret that as missing data\n",
    "(full_df.YRBLT < 1776).mean().round(3)"
   ]
  },
  {
   "cell_type": "code",
   "execution_count": 68,
   "id": "99e13ab3",
   "metadata": {},
   "outputs": [
    {
     "data": {
      "text/plain": [
       "0.314"
      ]
     },
     "execution_count": 68,
     "metadata": {},
     "output_type": "execute_result"
    }
   ],
   "source": [
    "((full_df['YRBLT'] > 1776) & (full_df['YRBLT'] <= 1923)).mean().round(3)"
   ]
  },
  {
   "cell_type": "markdown",
   "id": "10df83f9",
   "metadata": {},
   "source": [
    "### How many parcels are in historic districts?"
   ]
  },
  {
   "cell_type": "code",
   "execution_count": 66,
   "id": "aac69381",
   "metadata": {},
   "outputs": [
    {
     "data": {
      "text/plain": [
       "0.098"
      ]
     },
     "execution_count": 66,
     "metadata": {},
     "output_type": "execute_result"
    }
   ],
   "source": [
    "full_df['is_historic'].mean().round(3)"
   ]
  },
  {
   "cell_type": "markdown",
   "id": "485b392d",
   "metadata": {},
   "source": [
    "### How many parcels are in historic districts or have buildings that are 100+ years old?\n"
   ]
  },
  {
   "cell_type": "code",
   "execution_count": 74,
   "id": "817ffea4",
   "metadata": {},
   "outputs": [
    {
     "data": {
      "text/plain": [
       "0.4148"
      ]
     },
     "execution_count": 74,
     "metadata": {},
     "output_type": "execute_result"
    }
   ],
   "source": [
    "# This is where the 41% figure came from\n",
    "(full_df['is_historic'] | (full_df['YRBLT'] <= 1923)).mean().round(4)"
   ]
  },
  {
   "cell_type": "code",
   "execution_count": 69,
   "id": "c565ebd5",
   "metadata": {},
   "outputs": [
    {
     "data": {
      "text/plain": [
       "0.362"
      ]
     },
     "execution_count": 69,
     "metadata": {},
     "output_type": "execute_result"
    }
   ],
   "source": [
    "# Actual number is 36%\n",
    "(full_df['is_historic'] | ((full_df['YRBLT'] > 1776) & (full_df['YRBLT'] <= 1923))).mean().round(3)"
   ]
  }
 ],
 "metadata": {
  "kernelspec": {
   "display_name": "Python 3 (ipykernel)",
   "language": "python",
   "name": "python3"
  },
  "language_info": {
   "codemirror_mode": {
    "name": "ipython",
    "version": 3
   },
   "file_extension": ".py",
   "mimetype": "text/x-python",
   "name": "python",
   "nbconvert_exporter": "python",
   "pygments_lexer": "ipython3",
   "version": "3.9.6"
  }
 },
 "nbformat": 4,
 "nbformat_minor": 5
}
